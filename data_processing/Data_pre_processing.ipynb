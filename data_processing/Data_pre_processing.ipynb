{
 "cells": [
  {
   "cell_type": "markdown",
   "id": "dbbd5b9c-0918-431b-b00a-a2c9934a30aa",
   "metadata": {},
   "source": [
    "# Data Pre-processing"
   ]
  },
  {
   "cell_type": "code",
   "execution_count": 366,
   "id": "20ff8877-dc3c-459d-b4f7-4622efa2621c",
   "metadata": {},
   "outputs": [],
   "source": [
    "import numpy as np\n",
    "import pandas as pd\n",
    "import matplotlib.pyplot as plt\n",
    "import warnings\n",
    "warnings.filterwarnings('ignore')"
   ]
  },
  {
   "cell_type": "code",
   "execution_count": 367,
   "id": "140892f8-ca3b-4fd2-aebd-81a49b783d45",
   "metadata": {},
   "outputs": [],
   "source": [
    "raw_data1 = pd.read_csv(r\"D:\\github\\texture_haptic\\raw_data\\s3_f175_i001.txt\", names=[\"Timestamp\", \"Platform\", \"Rotary\"])"
   ]
  },
  {
   "cell_type": "markdown",
   "id": "ad48248e-b287-436d-a155-70f41bdacccb",
   "metadata": {},
   "source": [
    "# Feature Extraction"
   ]
  },
  {
   "cell_type": "code",
   "execution_count": 368,
   "id": "f3b5d7e7-006f-4f65-85ba-eaff6a38bc7c",
   "metadata": {},
   "outputs": [],
   "source": [
    "I = 0.175"
   ]
  },
  {
   "cell_type": "code",
   "execution_count": 369,
   "id": "862a8a79-5910-48e7-aae5-456142168966",
   "metadata": {},
   "outputs": [],
   "source": [
    "time_now = pd.DataFrame({'Timestamp':raw_data1['Timestamp']})\n",
    "time_prev = pd.DataFrame({'Timestamp':raw_data1['Timestamp']})\n",
    "row = pd.DataFrame({'Timestamp': [0]})\n",
    "time_prev = pd.concat([row,time_prev.loc[:]]).reset_index(drop=True)\n",
    "time_prev = time_prev.drop(time_prev.index[-1])\n",
    "raw_data1['dt'] = time_now['Timestamp'] - time_prev['Timestamp'] "
   ]
  },
  {
   "cell_type": "code",
   "execution_count": 370,
   "id": "0d924800-2374-45bc-a130-0ae6f78040a7",
   "metadata": {},
   "outputs": [
    {
     "data": {
      "text/plain": [
       "0         0.000139\n",
       "1         0.000103\n",
       "2         0.000043\n",
       "3         0.000022\n",
       "4         0.000021\n",
       "            ...   \n",
       "399995    0.000019\n",
       "399996    0.000019\n",
       "399997    0.000019\n",
       "399998    0.000019\n",
       "399999    0.000019\n",
       "Name: dt, Length: 400000, dtype: float64"
      ]
     },
     "execution_count": 370,
     "metadata": {},
     "output_type": "execute_result"
    }
   ],
   "source": [
    "dt = raw_data1['dt']\n",
    "Platform_now = pd.DataFrame({'Platform':raw_data1['Platform']})\n",
    "Platform_prev = pd.DataFrame({'Platform':raw_data1['Platform']})\n",
    "row = pd.DataFrame({'Platform': [0]})\n",
    "Platform_prev = pd.concat([row,Platform_prev.loc[:]]).reset_index(drop=True)\n",
    "Platform_prev = Platform_prev.drop(Platform_prev.index[-1])\n",
    "difference = (Platform_now['Platform'] - Platform_prev['Platform'] )\n",
    "raw_data1['Platform Velocity'] = difference.div(dt)\n",
    "raw_data1['Platform Velocity'] = raw_data1['Platform Velocity'].rolling(10).mean()*1e-6\n",
    "\n",
    "#df[\"result\"] = df[\"col1\"]/df[\"col2\"]\n",
    "dt"
   ]
  },
  {
   "cell_type": "code",
   "execution_count": 371,
   "id": "e6a61b4f-07da-46bf-86b8-7c8ff0153c01",
   "metadata": {},
   "outputs": [],
   "source": [
    "Rotary_now = pd.DataFrame({'Rotary':raw_data1['Rotary']})\n",
    "Rotary_prev = pd.DataFrame({'Rotary':raw_data1['Rotary']})\n",
    "row = pd.DataFrame({'Rotary': [0]})\n",
    "Rotary_prev = pd.concat([row,Rotary_prev.loc[:]]).reset_index(drop=True)\n",
    "Rotary_prev = Rotary_prev.drop(Rotary_prev.index[-1])\n",
    "difference = (Rotary_now['Rotary'] - Rotary_prev['Rotary'] )\n",
    "raw_data1['Rotary Velocity'] = difference.div(dt)\n",
    "raw_data1['Rotary Velocity'] = raw_data1['Rotary Velocity'].rolling(300).mean()*1e-6\n"
   ]
  },
  {
   "cell_type": "code",
   "execution_count": 372,
   "id": "c010a636-8a33-4fad-9fdc-39e331698dd8",
   "metadata": {},
   "outputs": [],
   "source": [
    "raw_data1['Current'] = [I]*len(raw_data1)"
   ]
  },
  {
   "cell_type": "code",
   "execution_count": 373,
   "id": "58b9ca00-97d5-4b98-97dd-b393e0a4c1aa",
   "metadata": {},
   "outputs": [
    {
     "data": {
      "text/html": [
       "<div>\n",
       "<style scoped>\n",
       "    .dataframe tbody tr th:only-of-type {\n",
       "        vertical-align: middle;\n",
       "    }\n",
       "\n",
       "    .dataframe tbody tr th {\n",
       "        vertical-align: top;\n",
       "    }\n",
       "\n",
       "    .dataframe thead th {\n",
       "        text-align: right;\n",
       "    }\n",
       "</style>\n",
       "<table border=\"1\" class=\"dataframe\">\n",
       "  <thead>\n",
       "    <tr style=\"text-align: right;\">\n",
       "      <th></th>\n",
       "      <th>Timestamp</th>\n",
       "      <th>Platform</th>\n",
       "      <th>Rotary</th>\n",
       "      <th>dt</th>\n",
       "      <th>Platform Velocity</th>\n",
       "      <th>Rotary Velocity</th>\n",
       "      <th>Current</th>\n",
       "    </tr>\n",
       "  </thead>\n",
       "  <tbody>\n",
       "    <tr>\n",
       "      <th>0</th>\n",
       "      <td>0.000139</td>\n",
       "      <td>0</td>\n",
       "      <td>0</td>\n",
       "      <td>0.000139</td>\n",
       "      <td>NaN</td>\n",
       "      <td>NaN</td>\n",
       "      <td>0.175</td>\n",
       "    </tr>\n",
       "    <tr>\n",
       "      <th>1</th>\n",
       "      <td>0.000242</td>\n",
       "      <td>0</td>\n",
       "      <td>0</td>\n",
       "      <td>0.000103</td>\n",
       "      <td>NaN</td>\n",
       "      <td>NaN</td>\n",
       "      <td>0.175</td>\n",
       "    </tr>\n",
       "    <tr>\n",
       "      <th>2</th>\n",
       "      <td>0.000285</td>\n",
       "      <td>0</td>\n",
       "      <td>0</td>\n",
       "      <td>0.000043</td>\n",
       "      <td>NaN</td>\n",
       "      <td>NaN</td>\n",
       "      <td>0.175</td>\n",
       "    </tr>\n",
       "    <tr>\n",
       "      <th>3</th>\n",
       "      <td>0.000307</td>\n",
       "      <td>0</td>\n",
       "      <td>0</td>\n",
       "      <td>0.000022</td>\n",
       "      <td>NaN</td>\n",
       "      <td>NaN</td>\n",
       "      <td>0.175</td>\n",
       "    </tr>\n",
       "    <tr>\n",
       "      <th>4</th>\n",
       "      <td>0.000328</td>\n",
       "      <td>0</td>\n",
       "      <td>0</td>\n",
       "      <td>0.000021</td>\n",
       "      <td>NaN</td>\n",
       "      <td>NaN</td>\n",
       "      <td>0.175</td>\n",
       "    </tr>\n",
       "    <tr>\n",
       "      <th>...</th>\n",
       "      <td>...</td>\n",
       "      <td>...</td>\n",
       "      <td>...</td>\n",
       "      <td>...</td>\n",
       "      <td>...</td>\n",
       "      <td>...</td>\n",
       "      <td>...</td>\n",
       "    </tr>\n",
       "    <tr>\n",
       "      <th>399995</th>\n",
       "      <td>7.821997</td>\n",
       "      <td>111401</td>\n",
       "      <td>113</td>\n",
       "      <td>0.000019</td>\n",
       "      <td>0.020789</td>\n",
       "      <td>0.001861</td>\n",
       "      <td>0.175</td>\n",
       "    </tr>\n",
       "    <tr>\n",
       "      <th>399996</th>\n",
       "      <td>7.822016</td>\n",
       "      <td>111402</td>\n",
       "      <td>113</td>\n",
       "      <td>0.000019</td>\n",
       "      <td>0.020789</td>\n",
       "      <td>0.001861</td>\n",
       "      <td>0.175</td>\n",
       "    </tr>\n",
       "    <tr>\n",
       "      <th>399997</th>\n",
       "      <td>7.822035</td>\n",
       "      <td>111402</td>\n",
       "      <td>113</td>\n",
       "      <td>0.000019</td>\n",
       "      <td>0.020789</td>\n",
       "      <td>0.001861</td>\n",
       "      <td>0.175</td>\n",
       "    </tr>\n",
       "    <tr>\n",
       "      <th>399998</th>\n",
       "      <td>7.822054</td>\n",
       "      <td>111403</td>\n",
       "      <td>113</td>\n",
       "      <td>0.000019</td>\n",
       "      <td>0.020789</td>\n",
       "      <td>0.001685</td>\n",
       "      <td>0.175</td>\n",
       "    </tr>\n",
       "    <tr>\n",
       "      <th>399999</th>\n",
       "      <td>7.822073</td>\n",
       "      <td>111403</td>\n",
       "      <td>114</td>\n",
       "      <td>0.000019</td>\n",
       "      <td>0.020789</td>\n",
       "      <td>0.001861</td>\n",
       "      <td>0.175</td>\n",
       "    </tr>\n",
       "  </tbody>\n",
       "</table>\n",
       "<p>400000 rows × 7 columns</p>\n",
       "</div>"
      ],
      "text/plain": [
       "        Timestamp  Platform  Rotary        dt  Platform Velocity  \\\n",
       "0        0.000139         0       0  0.000139                NaN   \n",
       "1        0.000242         0       0  0.000103                NaN   \n",
       "2        0.000285         0       0  0.000043                NaN   \n",
       "3        0.000307         0       0  0.000022                NaN   \n",
       "4        0.000328         0       0  0.000021                NaN   \n",
       "...           ...       ...     ...       ...                ...   \n",
       "399995   7.821997    111401     113  0.000019           0.020789   \n",
       "399996   7.822016    111402     113  0.000019           0.020789   \n",
       "399997   7.822035    111402     113  0.000019           0.020789   \n",
       "399998   7.822054    111403     113  0.000019           0.020789   \n",
       "399999   7.822073    111403     114  0.000019           0.020789   \n",
       "\n",
       "        Rotary Velocity  Current  \n",
       "0                   NaN    0.175  \n",
       "1                   NaN    0.175  \n",
       "2                   NaN    0.175  \n",
       "3                   NaN    0.175  \n",
       "4                   NaN    0.175  \n",
       "...                 ...      ...  \n",
       "399995         0.001861    0.175  \n",
       "399996         0.001861    0.175  \n",
       "399997         0.001861    0.175  \n",
       "399998         0.001685    0.175  \n",
       "399999         0.001861    0.175  \n",
       "\n",
       "[400000 rows x 7 columns]"
      ]
     },
     "execution_count": 373,
     "metadata": {},
     "output_type": "execute_result"
    }
   ],
   "source": [
    "raw_data1"
   ]
  },
  {
   "cell_type": "code",
   "execution_count": 374,
   "id": "cf0a498a-1490-43d3-9ae1-fafceccae165",
   "metadata": {},
   "outputs": [],
   "source": [
    "start1 = np.where([raw_data1['Timestamp']<1.9])\n",
    "start1 = start1[1][-1]\n",
    "\n",
    "end1 = np.where([raw_data1['Timestamp']>7.1])\n",
    "end1 = end1[1][0]\n"
   ]
  },
  {
   "cell_type": "code",
   "execution_count": 375,
   "id": "fbca5ac5-75ce-411c-9e3f-42c90fdbc083",
   "metadata": {},
   "outputs": [
    {
     "data": {
      "text/html": [
       "<div>\n",
       "<style scoped>\n",
       "    .dataframe tbody tr th:only-of-type {\n",
       "        vertical-align: middle;\n",
       "    }\n",
       "\n",
       "    .dataframe tbody tr th {\n",
       "        vertical-align: top;\n",
       "    }\n",
       "\n",
       "    .dataframe thead th {\n",
       "        text-align: right;\n",
       "    }\n",
       "</style>\n",
       "<table border=\"1\" class=\"dataframe\">\n",
       "  <thead>\n",
       "    <tr style=\"text-align: right;\">\n",
       "      <th></th>\n",
       "      <th>Timestamp</th>\n",
       "      <th>Platform</th>\n",
       "      <th>Rotary</th>\n",
       "      <th>dt</th>\n",
       "      <th>Platform Velocity</th>\n",
       "      <th>Rotary Velocity</th>\n",
       "      <th>Current</th>\n",
       "    </tr>\n",
       "  </thead>\n",
       "  <tbody>\n",
       "    <tr>\n",
       "      <th>98547</th>\n",
       "      <td>1.900005</td>\n",
       "      <td>17606</td>\n",
       "      <td>-77</td>\n",
       "      <td>0.000019</td>\n",
       "      <td>0.010526</td>\n",
       "      <td>0.000526</td>\n",
       "      <td>0.175</td>\n",
       "    </tr>\n",
       "    <tr>\n",
       "      <th>98548</th>\n",
       "      <td>1.900024</td>\n",
       "      <td>17606</td>\n",
       "      <td>-77</td>\n",
       "      <td>0.000019</td>\n",
       "      <td>0.010526</td>\n",
       "      <td>0.000526</td>\n",
       "      <td>0.175</td>\n",
       "    </tr>\n",
       "    <tr>\n",
       "      <th>98549</th>\n",
       "      <td>1.900043</td>\n",
       "      <td>17606</td>\n",
       "      <td>-77</td>\n",
       "      <td>0.000019</td>\n",
       "      <td>0.010526</td>\n",
       "      <td>0.000526</td>\n",
       "      <td>0.175</td>\n",
       "    </tr>\n",
       "    <tr>\n",
       "      <th>98550</th>\n",
       "      <td>1.900062</td>\n",
       "      <td>17607</td>\n",
       "      <td>-77</td>\n",
       "      <td>0.000019</td>\n",
       "      <td>0.010526</td>\n",
       "      <td>0.000526</td>\n",
       "      <td>0.175</td>\n",
       "    </tr>\n",
       "    <tr>\n",
       "      <th>98551</th>\n",
       "      <td>1.900081</td>\n",
       "      <td>17607</td>\n",
       "      <td>-77</td>\n",
       "      <td>0.000019</td>\n",
       "      <td>0.010526</td>\n",
       "      <td>0.000526</td>\n",
       "      <td>0.175</td>\n",
       "    </tr>\n",
       "    <tr>\n",
       "      <th>...</th>\n",
       "      <td>...</td>\n",
       "      <td>...</td>\n",
       "      <td>...</td>\n",
       "      <td>...</td>\n",
       "      <td>...</td>\n",
       "      <td>...</td>\n",
       "      <td>...</td>\n",
       "    </tr>\n",
       "    <tr>\n",
       "      <th>363485</th>\n",
       "      <td>7.099918</td>\n",
       "      <td>94087</td>\n",
       "      <td>-94</td>\n",
       "      <td>0.000019</td>\n",
       "      <td>0.020050</td>\n",
       "      <td>-0.000566</td>\n",
       "      <td>0.175</td>\n",
       "    </tr>\n",
       "    <tr>\n",
       "      <th>363486</th>\n",
       "      <td>7.099937</td>\n",
       "      <td>94087</td>\n",
       "      <td>-95</td>\n",
       "      <td>0.000019</td>\n",
       "      <td>0.020050</td>\n",
       "      <td>-0.000742</td>\n",
       "      <td>0.175</td>\n",
       "    </tr>\n",
       "    <tr>\n",
       "      <th>363487</th>\n",
       "      <td>7.099956</td>\n",
       "      <td>94087</td>\n",
       "      <td>-95</td>\n",
       "      <td>0.000019</td>\n",
       "      <td>0.015288</td>\n",
       "      <td>-0.000742</td>\n",
       "      <td>0.175</td>\n",
       "    </tr>\n",
       "    <tr>\n",
       "      <th>363488</th>\n",
       "      <td>7.099975</td>\n",
       "      <td>94087</td>\n",
       "      <td>-95</td>\n",
       "      <td>0.000019</td>\n",
       "      <td>0.015288</td>\n",
       "      <td>-0.000742</td>\n",
       "      <td>0.175</td>\n",
       "    </tr>\n",
       "    <tr>\n",
       "      <th>363489</th>\n",
       "      <td>7.099993</td>\n",
       "      <td>94088</td>\n",
       "      <td>-95</td>\n",
       "      <td>0.000018</td>\n",
       "      <td>0.020844</td>\n",
       "      <td>-0.000742</td>\n",
       "      <td>0.175</td>\n",
       "    </tr>\n",
       "  </tbody>\n",
       "</table>\n",
       "<p>264943 rows × 7 columns</p>\n",
       "</div>"
      ],
      "text/plain": [
       "        Timestamp  Platform  Rotary        dt  Platform Velocity  \\\n",
       "98547    1.900005     17606     -77  0.000019           0.010526   \n",
       "98548    1.900024     17606     -77  0.000019           0.010526   \n",
       "98549    1.900043     17606     -77  0.000019           0.010526   \n",
       "98550    1.900062     17607     -77  0.000019           0.010526   \n",
       "98551    1.900081     17607     -77  0.000019           0.010526   \n",
       "...           ...       ...     ...       ...                ...   \n",
       "363485   7.099918     94087     -94  0.000019           0.020050   \n",
       "363486   7.099937     94087     -95  0.000019           0.020050   \n",
       "363487   7.099956     94087     -95  0.000019           0.015288   \n",
       "363488   7.099975     94087     -95  0.000019           0.015288   \n",
       "363489   7.099993     94088     -95  0.000018           0.020844   \n",
       "\n",
       "        Rotary Velocity  Current  \n",
       "98547          0.000526    0.175  \n",
       "98548          0.000526    0.175  \n",
       "98549          0.000526    0.175  \n",
       "98550          0.000526    0.175  \n",
       "98551          0.000526    0.175  \n",
       "...                 ...      ...  \n",
       "363485        -0.000566    0.175  \n",
       "363486        -0.000742    0.175  \n",
       "363487        -0.000742    0.175  \n",
       "363488        -0.000742    0.175  \n",
       "363489        -0.000742    0.175  \n",
       "\n",
       "[264943 rows x 7 columns]"
      ]
     },
     "execution_count": 375,
     "metadata": {},
     "output_type": "execute_result"
    }
   ],
   "source": [
    "sliced_data1 = raw_data1[start1+1:end1]\n",
    "sliced_data1"
   ]
  },
  {
   "cell_type": "code",
   "execution_count": 376,
   "id": "80b15985-dbe0-4206-9d0d-ea019e2ba4a2",
   "metadata": {},
   "outputs": [],
   "source": [
    "Timestamp1 = sliced_data1['Timestamp'] \n",
    "Platform_disp1 = sliced_data1['Platform']\n",
    "Rotary_disp1 = sliced_data1['Rotary']*5-sliced_data1['Rotary'].mean()*5\n",
    "sliced_data1['Rotary'] = Rotary_disp1\n"
   ]
  },
  {
   "cell_type": "code",
   "execution_count": 377,
   "id": "3d99f528-db27-403f-b6fd-d2503fe3ab4b",
   "metadata": {},
   "outputs": [
    {
     "data": {
      "text/plain": [
       "[<matplotlib.lines.Line2D at 0x267ad695970>]"
      ]
     },
     "execution_count": 377,
     "metadata": {},
     "output_type": "execute_result"
    },
    {
     "data": {
      "image/png": "[encoded data removed]",
      "text/plain": [
       "<Figure size 640x480 with 1 Axes>"
      ]
     },
     "metadata": {},
     "output_type": "display_data"
    }
   ],
   "source": [
    "fig = plt.figure()\n",
    "plt.plot(Timestamp1,Rotary_disp1)"
   ]
  },
  {
   "cell_type": "code",
   "execution_count": 362,
   "id": "68617f55-2677-4abe-8a9b-bd576ba044a9",
   "metadata": {},
   "outputs": [],
   "source": [
    "sliced_data1['Timestamp'] = sliced_data1['Timestamp'] - sliced_data1.iloc[0]['Timestamp']"
   ]
  },
  {
   "cell_type": "markdown",
   "id": "7f3a85d8-267f-4cd2-9d18-42aec5ed3960",
   "metadata": {},
   "source": [
    "# Slicing and Writing to seperate files (52450 per file)"
   ]
  },
  {
   "cell_type": "code",
   "execution_count": 363,
   "id": "cb310f3b-ec99-40f9-9d9d-2010d995439e",
   "metadata": {},
   "outputs": [],
   "source": [
    "#Slice_count = np.where([sliced_data1['Timestamp']<=4])\n",
    "#Slice_count = Slice_count[1][-1]\n",
    "Slice_count = 52450"
   ]
  },
  {
   "cell_type": "code",
   "execution_count": 364,
   "id": "4b77864d-b10c-47fe-b8e4-0d964aa03e9f",
   "metadata": {},
   "outputs": [],
   "source": [
    "sliced_data1 = sliced_data1.drop(\"dt\",axis=1)"
   ]
  },
  {
   "cell_type": "code",
   "execution_count": 365,
   "id": "6c62461b-c497-493a-a48b-50e7ddb045ab",
   "metadata": {},
   "outputs": [],
   "source": [
    "for i in range(5):\n",
    "    data = sliced_data1[i*(Slice_count):(i+1)*(Slice_count)]\n",
    "    data['Timestamp'] = data['Timestamp'] - data.iloc[0]['Timestamp']\n",
    "    data['Platform'] = data['Platform'] - data.iloc[0]['Platform']\n",
    "    data['Rotary'] = data['Rotary'] - data['Rotary'].mean() \n",
    "    data.to_csv(r\"D:\\FYP_ML\\sliced_data\\s3_f175_i001_\" + str(i+1) +\".csv\",index=False)\n"
   ]
  },
  {
   "cell_type": "code",
   "execution_count": null,
   "id": "b0f7fb06-10d5-4eb7-a4c6-11d8860be9b7",
   "metadata": {},
   "outputs": [],
   "source": []
  }
 ],
 "metadata": {
  "kernelspec": {
   "display_name": "Python 3 (ipykernel)",
   "language": "python",
   "name": "python3"
  },
  "language_info": {
   "codemirror_mode": {
    "name": "ipython",
    "version": 3
   },
   "file_extension": ".py",
   "mimetype": "text/x-python",
   "name": "python",
   "nbconvert_exporter": "python",
   "pygments_lexer": "ipython3",
   "version": "3.9.16"
  }
 },
 "nbformat": 4,
 "nbformat_minor": 5
}
