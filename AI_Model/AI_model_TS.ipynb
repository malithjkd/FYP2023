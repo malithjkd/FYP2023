{
 "cells": [
  {
   "cell_type": "code",
   "execution_count": null,
   "id": "320a5fca-dad8-4ea1-afa0-b8e51e014397",
   "metadata": {},
   "outputs": [],
   "source": [
    "import numpy as np\n",
    "import pandas as pd\n",
    "import matplotlib.pyplot as plt\n",
    "import warnings\n",
    "warnings.filterwarnings('ignore')\n",
    "import pandas as pd\n",
    "from sklearn.model_selection import train_test_split\n",
    "from sklearn.ensemble import RandomForestClassifier\n",
    "from sklearn.metrics import accuracy_score\n"
   ]
  },
  {
   "cell_type": "code",
   "execution_count": null,
   "id": "579f8d1b-f550-42c4-b1f5-1fbd64f528c4",
   "metadata": {},
   "outputs": [],
   "source": [
    "target = []\n",
    "surfaces = []"
   ]
  },
  {
   "cell_type": "markdown",
   "id": "eac83e56-d045-4f4f-b61b-4644cf14eb2a",
   "metadata": {},
   "source": [
    "# Load the data from CSV files for each surface"
   ]
  },
  {
   "cell_type": "code",
   "execution_count": null,
   "id": "d07be496-2262-49b4-836f-89b3db4b6733",
   "metadata": {},
   "outputs": [],
   "source": [
    "#for i in range(1, 75):  #92\n",
    "#    filename = 'D:\\FYP\\ML\\AI Model\\sliced_data\\S1\\Surface_01 ' + str(i) +'.csv'\n",
    "#    df = pd.read_csv(filename)\n",
    "#    df = df.drop('Impedence_Vel', axis=1)\n",
    "#    df = df.drop('Impdence_Pos', axis=1)\n",
    "#    surfaces.append(df.values)\n",
    "#    target.append('Surface 1')   \n"
   ]
  },
  {
   "cell_type": "code",
   "execution_count": null,
   "id": "4891922c-bfef-4f9c-90f2-cc4651f1d9d9",
   "metadata": {},
   "outputs": [],
   "source": [
    "#df.keys()"
   ]
  },
  {
   "cell_type": "code",
   "execution_count": null,
   "id": "1f7108c6-4605-496d-8613-355c14743ccc",
   "metadata": {},
   "outputs": [],
   "source": [
    "#surfaces.isnull().sum()\n",
    "#np.isnan(df).sum()"
   ]
  },
  {
   "cell_type": "code",
   "execution_count": null,
   "id": "42d54157-cfab-4d5d-95f1-3990cd27c1b5",
   "metadata": {},
   "outputs": [],
   "source": [
    "for i in range(1, 75):  #107\n",
    "    filename = 'D:\\FYP\\ML\\AI Model\\sliced_data\\S2\\Surface_02_' + str(i) +'.csv'\n",
    "    df = pd.read_csv(filename, header=0)\n",
    "    df = df.drop('Impedence_Vel', axis=1)\n",
    "    df = df.drop('Impdence_Pos', axis=1)\n",
    "    surfaces.append(df.values)\n",
    "    target.append('Surface 2')"
   ]
  },
  {
   "cell_type": "code",
   "execution_count": null,
   "id": "2d4cbf19-cab5-41f6-a8b9-fed5f5ca58bf",
   "metadata": {},
   "outputs": [],
   "source": [
    "for i in range(1, 75):  #105\n",
    "    filename = 'D:\\FYP\\ML\\AI Model\\sliced_data\\S3\\Surface_03_' + str(i) +'.csv'\n",
    "    df = pd.read_csv(filename, header=0)\n",
    "    df = df.drop('Impedence_Vel', axis=1)\n",
    "    df = df.drop('Impdence_Pos', axis=1)\n",
    "    surfaces.append(df.values)\n",
    "    target.append('Surface 3')"
   ]
  },
  {
   "cell_type": "code",
   "execution_count": null,
   "id": "94ae6982-a0fb-4dbb-9575-9f2872cf96a3",
   "metadata": {},
   "outputs": [],
   "source": [
    "# extract the time series data and the corresponding labels\n",
    "X = np.array(surfaces)\n",
    "X = X.reshape(X.shape[0], -1)\n",
    "\n",
    "y = np.array(target)"
   ]
  },
  {
   "cell_type": "code",
   "execution_count": null,
   "id": "06d9450a-8b50-4f44-9a35-5c982964b777",
   "metadata": {},
   "outputs": [],
   "source": [
    "#pd.Series(surfaces).isnull().sum()"
   ]
  },
  {
   "cell_type": "code",
   "execution_count": null,
   "id": "e7759c04-de87-4b86-b0e9-a13c6b53ff3c",
   "metadata": {},
   "outputs": [],
   "source": [
    "X"
   ]
  },
  {
   "cell_type": "code",
   "execution_count": null,
   "id": "ca248bd8-74a7-454c-ab8a-9ffd6f21a0e6",
   "metadata": {},
   "outputs": [],
   "source": [
    "# split the data into training and testing sets\n",
    "X_train, X_test, y_train, y_test = train_test_split(X, y, test_size=0.5, random_state=42)\n",
    "X_train"
   ]
  },
  {
   "cell_type": "code",
   "execution_count": null,
   "id": "c29cbba5-3035-4e27-b426-8df953047afd",
   "metadata": {},
   "outputs": [],
   "source": [
    "# initialize and fit the TSF classifier\n",
    "model = RandomForestClassifier(n_estimators=700, random_state=42)\n",
    "model.fit(X_train, y_train)"
   ]
  },
  {
   "cell_type": "code",
   "execution_count": null,
   "id": "da12fba0-d0be-49a0-8f9d-8e5e68cd44af",
   "metadata": {},
   "outputs": [],
   "source": [
    "# predict the class labels of new data\n",
    "y_pred = model.predict(X_test)\n",
    "accuracy = accuracy_score(y_test, y_pred)\n",
    "accuracy\n"
   ]
  },
  {
   "cell_type": "code",
   "execution_count": null,
   "id": "26289dc8-53f5-4521-8646-7599fc2afc1b",
   "metadata": {},
   "outputs": [],
   "source": [
    "#plot confusion matrix\n",
    "from sklearn.metrics import confusion_matrix\n",
    "import numpy as np\n",
    "import itertools\n",
    "\n",
    "def plot_confusion_matrix(cm, classes, normalize=False, \n",
    "                          title='Confusion matrix',\n",
    "                          cmap=plt.cm.Blues):\n",
    "  if normalize:\n",
    "    cm = cm.astype('float') / cm.sum(axis=1)[:, np.newaxis]\n",
    "    print(\"Normalised confusion matrix\")\n",
    "  else:\n",
    "    print(\"Confusion matrix, without normalisation\")\n",
    "\n",
    "  print(cm)\n",
    "\n",
    "  plt.imshow(cm, interpolation='nearest', cmap=cmap)\n",
    "  plt.title(title)\n",
    "  plt.colorbar()\n",
    "  tick_marks = np.arange(len(classes))\n",
    "  plt.xticks(tick_marks, classes, rotation=45)\n",
    "  plt.yticks(tick_marks, classes)\n",
    "\n",
    "  fmt = '.2f' if normalize else 'd'\n",
    "  thresh = cm.max()/2.\n",
    "  for i,j in itertools.product(range(cm.shape[0]), range(cm.shape[1])):\n",
    "    plt.text(j,i, format(cm[i,j], fmt),\n",
    "        horizontalalignment='center',\n",
    "        color=\"white\" if cm[i, j] > thresh else \"black\")\n",
    "\n",
    "\n",
    "\n",
    "\n",
    "p_test = model.predict(X_test)\n",
    "cm = confusion_matrix(y_test, p_test)\n",
    "print(cm)\n",
    "\n",
    "plot_confusion_matrix(cm, list(range(3)))\n",
    "plt.tight_layout()\n",
    "plt.ylabel('True label')\n",
    "plt.xlabel('Predicted label')\n",
    "plt.show()\n"
   ]
  }
 ],
 "metadata": {
  "kernelspec": {
   "display_name": "Python 3 (ipykernel)",
   "language": "python",
   "name": "python3"
  },
  "language_info": {
   "codemirror_mode": {
    "name": "ipython",
    "version": 3
   },
   "file_extension": ".py",
   "mimetype": "text/x-python",
   "name": "python",
   "nbconvert_exporter": "python",
   "pygments_lexer": "ipython3",
   "version": "3.9.16"
  }
 },
 "nbformat": 4,
 "nbformat_minor": 5
}
