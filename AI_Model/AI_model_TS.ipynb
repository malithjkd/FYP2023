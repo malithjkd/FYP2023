{
 "cells": [
  {
   "cell_type": "code",
   "execution_count": 1,
   "id": "320a5fca-dad8-4ea1-afa0-b8e51e014397",
   "metadata": {},
   "outputs": [],
   "source": [
    "import numpy as np\n",
    "import pandas as pd\n",
    "import matplotlib.pyplot as plt\n",
    "import warnings\n",
    "warnings.filterwarnings('ignore')\n",
    "import pandas as pd\n",
    "from sklearn.model_selection import train_test_split\n",
    "from sklearn.ensemble import RandomForestClassifier\n",
    "from sklearn.metrics import accuracy_score\n"
   ]
  },
  {
   "cell_type": "code",
   "execution_count": 2,
   "id": "579f8d1b-f550-42c4-b1f5-1fbd64f528c4",
   "metadata": {},
   "outputs": [],
   "source": [
    "target = []\n",
    "surfaces = []"
   ]
  },
  {
   "cell_type": "markdown",
   "id": "eac83e56-d045-4f4f-b61b-4644cf14eb2a",
   "metadata": {},
   "source": [
    "# Load the data from CSV files for each surface"
   ]
  },
  {
   "cell_type": "code",
   "execution_count": 3,
   "id": "d07be496-2262-49b4-836f-89b3db4b6733",
   "metadata": {},
   "outputs": [],
   "source": [
    "#for i in range(1, 75):  #92\n",
    "#    filename = 'D:\\FYP\\ML\\AI Model\\sliced_data\\S1\\Surface_01 ' + str(i) +'.csv'\n",
    "#    df = pd.read_csv(filename)\n",
    "#    df = df.drop('Impedence_Vel', axis=1)\n",
    "#    df = df.drop('Impdence_Pos', axis=1)\n",
    "#    surfaces.append(df.values)\n",
    "#    target.append('Surface 1')   \n"
   ]
  },
  {
   "cell_type": "code",
   "execution_count": 4,
   "id": "4891922c-bfef-4f9c-90f2-cc4651f1d9d9",
   "metadata": {},
   "outputs": [],
   "source": [
    "#df.keys()"
   ]
  },
  {
   "cell_type": "code",
   "execution_count": 5,
   "id": "1f7108c6-4605-496d-8613-355c14743ccc",
   "metadata": {},
   "outputs": [],
   "source": [
    "#surfaces.isnull().sum()\n",
    "#np.isnan(df).sum()"
   ]
  },
  {
   "cell_type": "code",
   "execution_count": 6,
   "id": "42d54157-cfab-4d5d-95f1-3990cd27c1b5",
   "metadata": {},
   "outputs": [],
   "source": [
    "for i in range(1, 75):  #107\n",
    "    filename = 'D:\\FYP\\ML\\AI Model\\sliced_data\\S2\\Surface_02_' + str(i) +'.csv'\n",
    "    df = pd.read_csv(filename, header=0)\n",
    "    df = df.drop('Impedence_Vel', axis=1)\n",
    "    df = df.drop('Impdence_Pos', axis=1)\n",
    "    surfaces.append(df.values)\n",
    "    target.append('Surface 2')"
   ]
  },
  {
   "cell_type": "code",
   "execution_count": 7,
   "id": "2d4cbf19-cab5-41f6-a8b9-fed5f5ca58bf",
   "metadata": {},
   "outputs": [],
   "source": [
    "for i in range(1, 75):  #105\n",
    "    filename = 'D:\\FYP\\ML\\AI Model\\sliced_data\\S3\\Surface_03_' + str(i) +'.csv'\n",
    "    df = pd.read_csv(filename, header=0)\n",
    "    df = df.drop('Impedence_Vel', axis=1)\n",
    "    df = df.drop('Impdence_Pos', axis=1)\n",
    "    surfaces.append(df.values)\n",
    "    target.append('Surface 3')"
   ]
  },
  {
   "cell_type": "code",
   "execution_count": 8,
   "id": "94ae6982-a0fb-4dbb-9575-9f2872cf96a3",
   "metadata": {},
   "outputs": [],
   "source": [
    "# extract the time series data and the corresponding labels\n",
    "X = np.array(surfaces)\n",
    "X = X.reshape(X.shape[0], -1)\n",
    "\n",
    "y = np.array(target)"
   ]
  },
  {
   "cell_type": "code",
   "execution_count": 9,
   "id": "06d9450a-8b50-4f44-9a35-5c982964b777",
   "metadata": {},
   "outputs": [],
   "source": [
    "#pd.Series(surfaces).isnull().sum()"
   ]
  },
  {
   "cell_type": "code",
   "execution_count": 10,
   "id": "e7759c04-de87-4b86-b0e9-a13c6b53ff3c",
   "metadata": {},
   "outputs": [
    {
     "data": {
      "text/plain": [
       "array([[ 0.00000000e+00,  0.00000000e+00,  9.27298379e+01, ...,\n",
       "         8.48443000e-01,  2.63157895e-02,  1.00000000e-01],\n",
       "       [ 0.00000000e+00,  0.00000000e+00,  7.83784557e+01, ...,\n",
       "         8.48751000e-01,  3.57894737e-02,  1.00000000e-01],\n",
       "       [ 0.00000000e+00,  0.00000000e+00,  6.87578646e+00, ...,\n",
       "         8.48821000e-01,  2.57894737e-02,  1.00000000e-01],\n",
       "       ...,\n",
       "       [ 0.00000000e+00,  0.00000000e+00, -2.73137274e+01, ...,\n",
       "         1.48528100e+00,  4.42011250e-02,  1.75000000e-01],\n",
       "       [ 0.00000000e+00,  0.00000000e+00, -6.82221163e+01, ...,\n",
       "         1.48488800e+00,  1.57894737e-02,  1.75000000e-01],\n",
       "       [ 0.00000000e+00,  0.00000000e+00, -7.07919924e+01, ...,\n",
       "         1.48484100e+00,  3.63157895e-02,  1.75000000e-01]])"
      ]
     },
     "execution_count": 10,
     "metadata": {},
     "output_type": "execute_result"
    }
   ],
   "source": [
    "X"
   ]
  },
  {
   "cell_type": "code",
   "execution_count": 11,
   "id": "ca248bd8-74a7-454c-ab8a-9ffd6f21a0e6",
   "metadata": {},
   "outputs": [
    {
     "data": {
      "text/plain": [
       "array([[ 0.00000000e+00,  0.00000000e+00, -8.20995234e+01, ...,\n",
       "         8.48374000e-01,  3.10526316e-02,  1.00000000e-01],\n",
       "       [ 0.00000000e+00,  0.00000000e+00, -1.39294185e+02, ...,\n",
       "         1.27275800e+00,  1.00000000e-02,  1.50000000e-01],\n",
       "       [ 0.00000000e+00,  0.00000000e+00, -1.13180267e+02, ...,\n",
       "         8.48523000e-01,  2.05263158e-02,  1.00000000e-01],\n",
       "       ...,\n",
       "       [ 0.00000000e+00,  0.00000000e+00, -1.41161106e+01, ...,\n",
       "         8.48638000e-01,  1.05263158e-02,  1.00000000e-01],\n",
       "       [ 0.00000000e+00,  0.00000000e+00, -5.02106768e+00, ...,\n",
       "         8.48573000e-01,  1.05263158e-02,  1.00000000e-01],\n",
       "       [ 0.00000000e+00,  0.00000000e+00, -1.69268827e+01, ...,\n",
       "         8.48539000e-01,  1.05263158e-02,  1.00000000e-01]])"
      ]
     },
     "execution_count": 11,
     "metadata": {},
     "output_type": "execute_result"
    }
   ],
   "source": [
    "# split the data into training and testing sets\n",
    "X_train, X_test, y_train, y_test = train_test_split(X, y, test_size=0.5, random_state=42)\n",
    "X_train"
   ]
  },
  {
   "cell_type": "code",
   "execution_count": 12,
   "id": "c29cbba5-3035-4e27-b426-8df953047afd",
   "metadata": {},
   "outputs": [],
   "source": [
    "# initialize and fit the TSF classifier\n",
    "model = RandomForestClassifier(n_estimators=5000, random_state=42)\n",
    "for i in range(0,2):\n",
    "    model.fit(X_train, y_train)"
   ]
  },
  {
   "cell_type": "code",
   "execution_count": 13,
   "id": "da12fba0-d0be-49a0-8f9d-8e5e68cd44af",
   "metadata": {},
   "outputs": [
    {
     "data": {
      "text/plain": [
       "0.7972972972972973"
      ]
     },
     "execution_count": 13,
     "metadata": {},
     "output_type": "execute_result"
    }
   ],
   "source": [
    "# predict the class labels of new data\n",
    "y_pred = model.predict(X_test)\n",
    "accuracy = accuracy_score(y_test, y_pred)\n",
    "accuracy\n"
   ]
  },
  {
   "cell_type": "code",
   "execution_count": 14,
   "id": "26289dc8-53f5-4521-8646-7599fc2afc1b",
   "metadata": {},
   "outputs": [
    {
     "name": "stdout",
     "output_type": "stream",
     "text": [
      "[[32  8]\n",
      " [ 7 27]]\n",
      "Confusion matrix, without normalisation\n",
      "[[32  8]\n",
      " [ 7 27]]\n"
     ]
    },
    {
     "data": {
      "image/png": "[encoded data removed]",
      "text/plain": [
       "<Figure size 640x480 with 2 Axes>"
      ]
     },
     "metadata": {},
     "output_type": "display_data"
    }
   ],
   "source": [
    "#plot confusion matrix\n",
    "from sklearn.metrics import confusion_matrix\n",
    "import numpy as np\n",
    "import itertools\n",
    "\n",
    "def plot_confusion_matrix(cm, classes, normalize=False, \n",
    "                          title='Confusion matrix',\n",
    "                          cmap=plt.cm.Blues):\n",
    "  if normalize:\n",
    "    cm = cm.astype('float') / cm.sum(axis=1)[:, np.newaxis]\n",
    "    print(\"Normalised confusion matrix\")\n",
    "  else:\n",
    "    print(\"Confusion matrix, without normalisation\")\n",
    "\n",
    "  print(cm)\n",
    "\n",
    "  plt.imshow(cm, interpolation='nearest', cmap=cmap)\n",
    "  plt.title(title)\n",
    "  plt.colorbar()\n",
    "  tick_marks = np.arange(len(classes))\n",
    "  plt.xticks(tick_marks, classes, rotation=45)\n",
    "  plt.yticks(tick_marks, classes)\n",
    "\n",
    "  fmt = '.2f' if normalize else 'd'\n",
    "  thresh = cm.max()/2.\n",
    "  for i,j in itertools.product(range(cm.shape[0]), range(cm.shape[1])):\n",
    "    plt.text(j,i, format(cm[i,j], fmt),\n",
    "        horizontalalignment='center',\n",
    "        color=\"white\" if cm[i, j] > thresh else \"black\")\n",
    "\n",
    "\n",
    "\n",
    "\n",
    "p_test = model.predict(X_test)\n",
    "cm = confusion_matrix(y_test, p_test)\n",
    "print(cm)\n",
    "\n",
    "plot_confusion_matrix(cm, list(range(2)))\n",
    "plt.tight_layout()\n",
    "plt.ylabel('True label')\n",
    "plt.xlabel('Predicted label')\n",
    "plt.show()\n"
   ]
  },
  {
   "cell_type": "code",
   "execution_count": null,
   "id": "503f01a1-ce9b-4ed6-80c0-ebc98d200147",
   "metadata": {},
   "outputs": [],
   "source": []
  }
 ],
 "metadata": {
  "kernelspec": {
   "display_name": "Python 3 (ipykernel)",
   "language": "python",
   "name": "python3"
  },
  "language_info": {
   "codemirror_mode": {
    "name": "ipython",
    "version": 3
   },
   "file_extension": ".py",
   "mimetype": "text/x-python",
   "name": "python",
   "nbconvert_exporter": "python",
   "pygments_lexer": "ipython3",
   "version": "3.9.16"
  }
 },
 "nbformat": 4,
 "nbformat_minor": 5
}
