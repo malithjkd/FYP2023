{
 "cells": [
  {
   "cell_type": "code",
   "execution_count": 31,
   "id": "320a5fca-dad8-4ea1-afa0-b8e51e014397",
   "metadata": {},
   "outputs": [],
   "source": [
    "import numpy as np\n",
    "import pandas as pd\n",
    "import matplotlib.pyplot as plt\n",
    "import warnings\n",
    "warnings.filterwarnings('ignore')\n",
    "import pandas as pd\n",
    "from sklearn.model_selection import train_test_split\n",
    "from sklearn.ensemble import RandomForestClassifier\n",
    "from sklearn.metrics import accuracy_score\n",
    "import os\n"
   ]
  },
  {
   "cell_type": "code",
   "execution_count": 32,
   "id": "579f8d1b-f550-42c4-b1f5-1fbd64f528c4",
   "metadata": {},
   "outputs": [],
   "source": [
    "target_1 = []\n",
    "target_2 = []\n",
    "target_3 = []\n",
    "\n",
    "surface_1 = []\n",
    "surface_2 = []\n",
    "surface_3 = []\n",
    "surfaces = []\n"
   ]
  },
  {
   "cell_type": "markdown",
   "id": "eac83e56-d045-4f4f-b61b-4644cf14eb2a",
   "metadata": {},
   "source": [
    "# Load the data from CSV files for each surface"
   ]
  },
  {
   "cell_type": "code",
   "execution_count": 33,
   "id": "b432217d-faa0-4f3a-9646-bffbcfb71e43",
   "metadata": {},
   "outputs": [
    {
     "name": "stdout",
     "output_type": "stream",
     "text": [
      "s1_f175_i004_6.csv\n",
      "1\n"
     ]
    }
   ],
   "source": [
    "Error_count = 0\n",
    "for filename in os.listdir(\"E:\\github\\DATA\\DATA\\S1\"):\n",
    "    df = pd.read_csv(\"E:\\github\\DATA\\DATA\\S1\" + \"\\\\\"+ filename)\n",
    "    df = df.drop('Impedence_Vel', axis=1)\n",
    "    df = df.drop('Impdence_Pos', axis=1)\n",
    "    if len(df) != 52450:\n",
    "        Error_count = Error_count + 1\n",
    "        print(filename)\n",
    "        continue  \n",
    "    surface_1.append(df.values)\n",
    "    target_1.append('Surface 1')   \n",
    "print(Error_count)"
   ]
  },
  {
   "cell_type": "code",
   "execution_count": 34,
   "id": "4439cb3e-dee8-495e-ae02-34709d7de254",
   "metadata": {},
   "outputs": [
    {
     "name": "stdout",
     "output_type": "stream",
     "text": [
      "0\n"
     ]
    }
   ],
   "source": [
    "Error_count = 0\n",
    "for filename in os.listdir(\"E:\\github\\DATA\\DATA\\S2\"):\n",
    "    df = pd.read_csv(\"E:\\github\\DATA\\DATA\\S2\" + \"\\\\\"+ filename)\n",
    "    df = df.drop('Impedence_Vel', axis=1)\n",
    "    df = df.drop('Impdence_Pos', axis=1)\n",
    "    if len(df) != 52450:\n",
    "        Error_count = Error_count + 1\n",
    "        continue  \n",
    "    surface_2.append(df.values)\n",
    "    target_2.append('Surface 2') \n",
    "print(Error_count)"
   ]
  },
  {
   "cell_type": "code",
   "execution_count": 35,
   "id": "27c1bae1-2cc2-40b6-a259-4f56d67b0fb3",
   "metadata": {},
   "outputs": [
    {
     "name": "stdout",
     "output_type": "stream",
     "text": [
      "0\n"
     ]
    }
   ],
   "source": [
    "Error_count = 0\n",
    "for filename in os.listdir(\"E:\\github\\DATA\\DATA\\S3\"):\n",
    "    df = pd.read_csv(\"E:\\github\\DATA\\DATA\\S3\" + \"\\\\\"+ filename)\n",
    "    df = df.drop('Impedence_Vel', axis=1)\n",
    "    df = df.drop('Impdence_Pos', axis=1)\n",
    "    if len(df) != 52450:\n",
    "        Error_count = Error_count + 1\n",
    "        continue  \n",
    "    surface_3.append(df.values)\n",
    "    target_3.append('Surface 3') \n",
    "print(Error_count)"
   ]
  },
  {
   "cell_type": "code",
   "execution_count": 36,
   "id": "4891922c-bfef-4f9c-90f2-cc4651f1d9d9",
   "metadata": {},
   "outputs": [],
   "source": [
    "#df.keys()\n",
    "#target"
   ]
  },
  {
   "cell_type": "code",
   "execution_count": 37,
   "id": "1f7108c6-4605-496d-8613-355c14743ccc",
   "metadata": {},
   "outputs": [],
   "source": [
    "#surfaces.isnull().sum()\n",
    "#np.isnan(df).sum()"
   ]
  },
  {
   "cell_type": "code",
   "execution_count": 38,
   "id": "94ae6982-a0fb-4dbb-9575-9f2872cf96a3",
   "metadata": {},
   "outputs": [],
   "source": [
    "# extract the time series data and the corresponding labels\n",
    "X1 = np.array(surface_1)\n",
    "X1 = X1.reshape(X1.shape[0], -1)\n",
    "\n",
    "X2 = np.array(surface_2)\n",
    "X2 = X2.reshape(X2.shape[0], -1)\n",
    "\n",
    "X3 = np.array(surface_3)\n",
    "X3 = X3.reshape(X3.shape[0], -1)\n",
    "\n",
    "y1 = np.array(target_1)\n",
    "y2 = np.array(target_2)\n",
    "y3 = np.array(target_3)\n",
    "#y = y.reshape(y.shape[0], -1)"
   ]
  },
  {
   "cell_type": "code",
   "execution_count": 39,
   "id": "06d9450a-8b50-4f44-9a35-5c982964b777",
   "metadata": {},
   "outputs": [],
   "source": [
    "#pd.Series(y).isnull().sum()"
   ]
  },
  {
   "cell_type": "code",
   "execution_count": 40,
   "id": "e7759c04-de87-4b86-b0e9-a13c6b53ff3c",
   "metadata": {},
   "outputs": [],
   "source": [
    "#X"
   ]
  },
  {
   "cell_type": "code",
   "execution_count": 41,
   "id": "ca248bd8-74a7-454c-ab8a-9ffd6f21a0e6",
   "metadata": {},
   "outputs": [],
   "source": [
    "# split the data into training and testing sets\n",
    "X1_train, X1_test, y1_train, y1_test = train_test_split(X1, y1, test_size=0.2, random_state=20)\n",
    "X2_train, X2_test, y2_train, y2_test = train_test_split(X2, y2, test_size=0.2, random_state=20)\n",
    "X3_train, X3_test, y3_train, y3_test = train_test_split(X3, y3, test_size=0.2, random_state=20)\n",
    "\n",
    "X_test = np.concatenate((X1_test,X2_test,X3_test), axis=0)\n",
    "X_train = np.concatenate((X1_train,X2_train,X3_train), axis=0)\n",
    "y_test = np.concatenate((y1_test,y2_test,y3_test), axis=0)\n",
    "y_train = np.concatenate((y1_train,y2_train,y3_train), axis=0)\n",
    "#X\n",
    "#X_train"
   ]
  },
  {
   "cell_type": "code",
   "execution_count": 42,
   "id": "8e006842-4a76-4d94-b591-b9a472aff2b6",
   "metadata": {},
   "outputs": [
    {
     "data": {
      "text/plain": [
       "367150"
      ]
     },
     "execution_count": 42,
     "metadata": {},
     "output_type": "execute_result"
    }
   ],
   "source": [
    "len(X_train[0])"
   ]
  },
  {
   "cell_type": "code",
   "execution_count": 43,
   "id": "7ff2501f-4915-4eb5-9f7b-a9e9b9356b78",
   "metadata": {},
   "outputs": [
    {
     "data": {
      "text/plain": [
       "367150"
      ]
     },
     "execution_count": 43,
     "metadata": {},
     "output_type": "execute_result"
    }
   ],
   "source": [
    "len(X1_train[1])"
   ]
  },
  {
   "cell_type": "code",
   "execution_count": 44,
   "id": "c29cbba5-3035-4e27-b426-8df953047afd",
   "metadata": {},
   "outputs": [],
   "source": [
    "# initialize and fit the TSF classifier\n",
    "model = RandomForestClassifier(n_estimators=5000, random_state=42)"
   ]
  },
  {
   "cell_type": "code",
   "execution_count": null,
   "id": "b7e15eb4-c497-4539-b11a-8e9a91ec2c49",
   "metadata": {},
   "outputs": [],
   "source": [
    "model.fit(X_train, y_train)"
   ]
  },
  {
   "cell_type": "code",
   "execution_count": null,
   "id": "da12fba0-d0be-49a0-8f9d-8e5e68cd44af",
   "metadata": {},
   "outputs": [],
   "source": [
    "# predict the class labels of new data\n",
    "y_pred = model.predict(X_test)\n",
    "accuracy = accuracy_score(y_test, y_pred)\n",
    "accuracy\n"
   ]
  },
  {
   "cell_type": "code",
   "execution_count": null,
   "id": "26289dc8-53f5-4521-8646-7599fc2afc1b",
   "metadata": {},
   "outputs": [],
   "source": [
    "#plot confusion matrix\n",
    "from sklearn.metrics import confusion_matrix\n",
    "import numpy as np\n",
    "import itertools\n",
    "\n",
    "def plot_confusion_matrix(cm, classes, normalize=False, \n",
    "                          title='Confusion matrix',\n",
    "                          cmap=plt.cm.Blues):\n",
    "  if normalize:\n",
    "    cm = cm.astype('float') / cm.sum(axis=1)[:, np.newaxis]\n",
    "    print(\"Normalised confusion matrix\")\n",
    "  else:\n",
    "    print(\"Confusion matrix, without normalisation\")\n",
    "\n",
    "  print(cm)\n",
    "\n",
    "  plt.imshow(cm, interpolation='nearest', cmap=cmap)\n",
    "  plt.title(title)\n",
    "  plt.colorbar()\n",
    "  tick_marks = np.arange(len(classes))\n",
    "  plt.xticks(tick_marks, classes, rotation=45)\n",
    "  plt.yticks(tick_marks, classes)\n",
    "\n",
    "  fmt = '.2f' if normalize else 'd'\n",
    "  thresh = cm.max()/2.\n",
    "  for i,j in itertools.product(range(cm.shape[0]), range(cm.shape[1])):\n",
    "    plt.text(j,i, format(cm[i,j], fmt),\n",
    "        horizontalalignment='center',\n",
    "        color=\"white\" if cm[i, j] > thresh else \"black\")\n",
    "\n",
    "\n",
    "\n",
    "\n",
    "p_test = model.predict(X_test)\n",
    "cm = confusion_matrix(y_test, p_test)\n",
    "print(cm)\n",
    "\n",
    "plot_confusion_matrix(cm, list(range(2)))\n",
    "plt.tight_layout()\n",
    "plt.ylabel('True label')\n",
    "plt.xlabel('Predicted label')\n",
    "plt.show()\n"
   ]
  },
  {
   "cell_type": "markdown",
   "id": "e5a19cca-6c1d-4660-b25c-fd6154a7707a",
   "metadata": {},
   "source": [
    "# Test"
   ]
  },
  {
   "cell_type": "code",
   "execution_count": null,
   "id": "97ff00f1-1202-4448-909f-141eb77acaae",
   "metadata": {},
   "outputs": [],
   "source": [
    "A = np.array([[0,1,2],[3,4,5]])\n",
    "B = np.array([[6,7,8],[9,10,11]])\n",
    "C = np.array([[12,13,14],[15,16,17]])\n",
    "\n",
    "np.concatenate((A,B,C), axis=0)"
   ]
  },
  {
   "cell_type": "code",
   "execution_count": null,
   "id": "17dae5aa-d745-437b-90be-627cdf09db32",
   "metadata": {},
   "outputs": [],
   "source": []
  }
 ],
 "metadata": {
  "kernelspec": {
   "display_name": "Python 3 (ipykernel)",
   "language": "python",
   "name": "python3"
  },
  "language_info": {
   "codemirror_mode": {
    "name": "ipython",
    "version": 3
   },
   "file_extension": ".py",
   "mimetype": "text/x-python",
   "name": "python",
   "nbconvert_exporter": "python",
   "pygments_lexer": "ipython3",
   "version": "3.10.9"
  }
 },
 "nbformat": 4,
 "nbformat_minor": 5
}
